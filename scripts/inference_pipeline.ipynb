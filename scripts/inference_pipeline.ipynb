{
 "cells": [
  {
   "cell_type": "code",
   "execution_count": null,
   "id": "b177b082",
   "metadata": {},
   "outputs": [],
   "source": [
    "import cv2\n",
    "from matplotlib import pyplot as plt\n",
    "\n",
    "from ocrpipeline.predictor import PipelinePredictor\n",
    "from ocrpipeline.utils import get_image_visualization, get_line_number_visualization\n",
    "from ocrpipeline.linefinder import get_structured_text"
   ]
  },
  {
   "cell_type": "code",
   "execution_count": null,
   "id": "6134a3e3",
   "metadata": {},
   "outputs": [],
   "source": [
    "IMG_PATH = ''\n",
    "\n",
    "PIPELINE_CONFIG_PATH = ''"
   ]
  },
  {
   "cell_type": "code",
   "execution_count": null,
   "id": "6b80ecb2",
   "metadata": {},
   "outputs": [],
   "source": [
    "predictor = PipelinePredictor(pipeline_config_path=PIPELINE_CONFIG_PATH)"
   ]
  },
  {
   "cell_type": "code",
   "execution_count": null,
   "id": "47ae8b4b",
   "metadata": {
    "scrolled": true
   },
   "outputs": [],
   "source": [
    "image = cv2.imread(IMG_PATH)\n",
    "\n",
    "rotated_image, pred_data = predictor(image)"
   ]
  },
  {
   "cell_type": "markdown",
   "id": "cb6a1529",
   "metadata": {},
   "source": [
    "## Visualize input image"
   ]
  },
  {
   "cell_type": "code",
   "execution_count": null,
   "id": "bbd80f15",
   "metadata": {},
   "outputs": [],
   "source": [
    "image = cv2.imread(IMG_PATH)\n",
    "image = cv2.cvtColor(image, cv2.COLOR_BGR2RGB)\n",
    "\n",
    "vis = get_image_visualization(\n",
    "    img=image,\n",
    "    pred_data=pred_data,\n",
    "    draw_contours_classes=['text_line'],\n",
    "    draw_text_classes=['shrinked_pupil_text']\n",
    ")\n",
    "\n",
    "plt.figure(figsize=(40, 40))\n",
    "plt.imshow(vis)\n",
    "plt.show()"
   ]
  },
  {
   "cell_type": "markdown",
   "id": "ad997cfa",
   "metadata": {},
   "source": [
    "## Visualize rorated image using rorated contours"
   ]
  },
  {
   "cell_type": "code",
   "execution_count": null,
   "id": "d5f04ecc",
   "metadata": {},
   "outputs": [],
   "source": [
    "vis = get_image_visualization(\n",
    "    img=cv2.cvtColor(rotated_image, cv2.COLOR_BGR2RGB),\n",
    "    pred_data=pred_data,\n",
    "    draw_contours_classes=['text_line'],\n",
    "    draw_text_classes=['shrinked_pupil_text'],\n",
    "    polygon_name='rotated_polygon'\n",
    ")\n",
    "\n",
    "plt.figure(figsize=(40, 40))\n",
    "plt.imshow(vis)\n",
    "plt.show()"
   ]
  },
  {
   "cell_type": "markdown",
   "id": "bb90605c",
   "metadata": {},
   "source": [
    "## Get structured text from prediction"
   ]
  },
  {
   "cell_type": "code",
   "execution_count": null,
   "id": "24e163ea",
   "metadata": {},
   "outputs": [],
   "source": [
    "pred_data['predictions'][0].keys()"
   ]
  },
  {
   "cell_type": "code",
   "execution_count": null,
   "id": "9b498c4c",
   "metadata": {},
   "outputs": [],
   "source": [
    "text2idx = []\n",
    "for prediction in pred_data['predictions']:\n",
    "    word_idx = prediction.get('word_idx')\n",
    "    if word_idx is not None:\n",
    "        text2idx.append(\n",
    "            (prediction['text'], word_idx)\n",
    "        )\n",
    "\n",
    "text2idx = sorted(text2idx, key=lambda tup: tup[1])"
   ]
  },
  {
   "cell_type": "code",
   "execution_count": null,
   "id": "5b934385",
   "metadata": {
    "scrolled": true
   },
   "outputs": [],
   "source": [
    "structured_text = get_structured_text(pred_data, ['shrinked_pupil_text'])\n",
    "for page_text in structured_text:\n",
    "    for line_text in page_text:\n",
    "        if line_text:\n",
    "            print(' '.join(line_text))\n",
    "    print('\\n')"
   ]
  },
  {
   "cell_type": "markdown",
   "id": "8182293a",
   "metadata": {},
   "source": [
    "## Visualize structured text"
   ]
  },
  {
   "cell_type": "code",
   "execution_count": null,
   "id": "f9c9d647",
   "metadata": {},
   "outputs": [],
   "source": [
    "image = cv2.imread(IMG_PATH)\n",
    "image = cv2.cvtColor(image, cv2.COLOR_BGR2RGB)\n",
    "\n",
    "vis = get_image_visualization(\n",
    "    img=rotated_image,\n",
    "    pred_data=pred_data,\n",
    "    draw_contours_classes=['text_line'],\n",
    "    structured_text=structured_text,\n",
    "    polygon_name='rotated_polygon'\n",
    ")\n",
    "\n",
    "plt.figure(figsize=(40, 40))\n",
    "plt.imshow(vis)\n",
    "plt.show()"
   ]
  },
  {
   "cell_type": "markdown",
   "id": "45b8c205",
   "metadata": {},
   "source": [
    "## Visualize line indexes on the image"
   ]
  },
  {
   "cell_type": "code",
   "execution_count": null,
   "id": "4d3d97d6",
   "metadata": {},
   "outputs": [],
   "source": [
    "image = cv2.imread(IMG_PATH)\n",
    "image = cv2.cvtColor(image, cv2.COLOR_BGR2RGB)\n",
    "\n",
    "vis = get_line_number_visualization(\n",
    "    image, pred_data, ['text_line'], 'line_idx')\n",
    "\n",
    "\n",
    "plt.figure(figsize=(40, 40))\n",
    "plt.imshow(vis)\n",
    "plt.show()"
   ]
  }
 ],
 "metadata": {
  "kernelspec": {
   "display_name": "Python 3 (ipykernel)",
   "language": "python",
   "name": "python3"
  },
  "language_info": {
   "codemirror_mode": {
    "name": "ipython",
    "version": 3
   },
   "file_extension": ".py",
   "mimetype": "text/x-python",
   "name": "python",
   "nbconvert_exporter": "python",
   "pygments_lexer": "ipython3",
   "version": "3.7.12"
  }
 },
 "nbformat": 4,
 "nbformat_minor": 5
}
