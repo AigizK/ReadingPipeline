{
 "cells": [
  {
   "cell_type": "code",
   "execution_count": null,
   "id": "023e30fa",
   "metadata": {},
   "outputs": [],
   "source": [
    "import cv2\n",
    "from matplotlib import pyplot as plt\n",
    "\n",
    "from ocrpipeline.predictor import PipelinePredictor\n",
    "from ocrpipeline.utils import get_image_visualization"
   ]
  },
  {
   "cell_type": "code",
   "execution_count": null,
   "id": "862c801f",
   "metadata": {},
   "outputs": [],
   "source": [
    "IMG_PATH = ''\n",
    "\n",
    "OCR_MODEL_PATH = ''\n",
    "OCR_CONFIG_PATH = ''\n",
    "\n",
    "SEGM_MODEL_PATH = ''\n",
    "SEGM_CONFIG_PATH = ''\n",
    "\n",
    "FONT_PATH = '/workdir/data/font.otf'\n",
    "\n",
    "DEVICE = 'cuda'"
   ]
  },
  {
   "cell_type": "code",
   "execution_count": null,
   "id": "698bf95b",
   "metadata": {},
   "outputs": [],
   "source": [
    "predictor = PipelinePredictor(\n",
    "    SEGM_MODEL_PATH, SEGM_CONFIG_PATH, OCR_MODEL_PATH, OCR_CONFIG_PATH, DEVICE\n",
    ")"
   ]
  },
  {
   "cell_type": "code",
   "execution_count": null,
   "id": "ee8cfb3a",
   "metadata": {},
   "outputs": [],
   "source": [
    "image = cv2.imread(IMG_PATH)\n",
    "\n",
    "pred_data = predictor(image)"
   ]
  },
  {
   "cell_type": "code",
   "execution_count": null,
   "id": "3d207f7d",
   "metadata": {
    "scrolled": false
   },
   "outputs": [],
   "source": [
    "vis = get_image_visualization(image, pred_data, FONT_PATH)\n",
    "\n",
    "plt.figure(figsize=(40, 40))\n",
    "plt.imshow(vis)\n",
    "plt.show()"
   ]
  }
 ],
 "metadata": {
  "kernelspec": {
   "display_name": "Python 3 (ipykernel)",
   "language": "python",
   "name": "python3"
  },
  "language_info": {
   "codemirror_mode": {
    "name": "ipython",
    "version": 3
   },
   "file_extension": ".py",
   "mimetype": "text/x-python",
   "name": "python",
   "nbconvert_exporter": "python",
   "pygments_lexer": "ipython3",
   "version": "3.8.10"
  }
 },
 "nbformat": 4,
 "nbformat_minor": 5
}
