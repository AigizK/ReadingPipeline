{
 "cells": [
  {
   "cell_type": "code",
   "execution_count": null,
   "id": "023e30fa",
   "metadata": {},
   "outputs": [],
   "source": [
    "import cv2\n",
    "import json\n",
    "from tqdm import tqdm\n",
    "import os\n",
    "\n",
    "from ocrpipeline.predictor import PipelinePredictor\n",
    "from ocrpipeline.utils import get_image_visualization"
   ]
  },
  {
   "cell_type": "code",
   "execution_count": null,
   "id": "862c801f",
   "metadata": {},
   "outputs": [],
   "source": [
    "OCR_MODEL_PATH = ''\n",
    "OCR_CONFIG_PATH = ''\n",
    "\n",
    "SEGM_MODEL_PATH = ''\n",
    "SEGM_CONFIG_PATH = ''\n",
    "\n",
    "PIPELINE_CONFIG_PATH = '/workdir/scripts/pipeline_config.json'\n",
    "\n",
    "# Path to json with segmentation dataset annotation in COCO format\n",
    "DATA_JSON_PATH = ''\n",
    "# Path to folder with evaluation images\n",
    "IMAGE_ROOT = ''\n",
    "# Folder to save prediction json (one for each image)\n",
    "SAVE_FOLDER = ''\n",
    "\n",
    "DEVICE = 'cuda'"
   ]
  },
  {
   "cell_type": "code",
   "execution_count": null,
   "id": "698bf95b",
   "metadata": {},
   "outputs": [],
   "source": [
    "predictor = PipelinePredictor(\n",
    "    segm_model_path=SEGM_MODEL_PATH,\n",
    "    segm_config_path=SEGM_CONFIG_PATH,\n",
    "    ocr_model_path=OCR_MODEL_PATH,\n",
    "    ocr_config_path=OCR_CONFIG_PATH,\n",
    "    pipeline_config_path=PIPELINE_CONFIG_PATH,\n",
    "    device=DEVICE\n",
    ")"
   ]
  },
  {
   "cell_type": "code",
   "execution_count": null,
   "id": "ee8cfb3a",
   "metadata": {},
   "outputs": [],
   "source": [
    "os.makedirs(SAVE_FOLDER, exist_ok=True)\n",
    "\n",
    "with open(DATA_JSON_PATH, 'r') as f:\n",
    "    data = json.load(f)\n",
    "\n",
    "for data_img in tqdm(data['images']):\n",
    "    img_name = data_img['file_name']\n",
    "    image = cv2.imread(os.path.join(IMAGE_ROOT, img_name))\n",
    "\n",
    "    pred_data = predictor(image)\n",
    "\n",
    "    pred_json_name = os.path.splitext(img_name)[0] + '.json'\n",
    "    pred_json_path = os.path.join(SAVE_FOLDER, pred_json_name)\n",
    "    with open(pred_json_path, 'w') as f:\n",
    "        json.dump(pred_data, f)"
   ]
  }
 ],
 "metadata": {
  "kernelspec": {
   "display_name": "Python 3 (ipykernel)",
   "language": "python",
   "name": "python3"
  },
  "language_info": {
   "codemirror_mode": {
    "name": "ipython",
    "version": 3
   },
   "file_extension": ".py",
   "mimetype": "text/x-python",
   "name": "python",
   "nbconvert_exporter": "python",
   "pygments_lexer": "ipython3",
   "version": "3.8.10"
  }
 },
 "nbformat": 4,
 "nbformat_minor": 5
}
