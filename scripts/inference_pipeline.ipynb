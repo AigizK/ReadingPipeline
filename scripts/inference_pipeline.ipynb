{
 "cells": [
  {
   "cell_type": "code",
   "execution_count": null,
   "id": "6d943eec",
   "metadata": {},
   "outputs": [],
   "source": [
    "import cv2\n",
    "from matplotlib import pyplot as plt\n",
    "\n",
    "from ocrpipeline.predictor import PipelinePredictor\n",
    "from ocrpipeline.utils import get_image_visualization, get_line_number_visualization\n",
    "from ocrpipeline.linefinder import get_structured_text"
   ]
  },
  {
   "cell_type": "code",
   "execution_count": null,
   "id": "574e9db0",
   "metadata": {},
   "outputs": [],
   "source": [
    "IMG_PATH = ''\n",
    "\n",
    "PIPELINE_CONFIG_PATH = ''"
   ]
  },
  {
   "cell_type": "code",
   "execution_count": null,
   "id": "552739f1",
   "metadata": {},
   "outputs": [],
   "source": [
    "predictor = PipelinePredictor(pipeline_config_path=PIPELINE_CONFIG_PATH)"
   ]
  },
  {
   "cell_type": "code",
   "execution_count": null,
   "id": "633d4b44",
   "metadata": {
    "scrolled": true
   },
   "outputs": [],
   "source": [
    "image = cv2.imread(IMG_PATH)\n",
    "\n",
    "rotated_image, pred_data = predictor(image)"
   ]
  },
  {
   "cell_type": "markdown",
   "id": "b1d0b69c",
   "metadata": {},
   "source": [
    "## Visualize input image"
   ]
  },
  {
   "cell_type": "code",
   "execution_count": null,
   "id": "341d0ac4",
   "metadata": {},
   "outputs": [],
   "source": [
    "image = cv2.imread(IMG_PATH)\n",
    "image = cv2.cvtColor(image, cv2.COLOR_BGR2RGB)\n",
    "\n",
    "vis = get_image_visualization(\n",
    "    img=image,\n",
    "    pred_data=pred_data,\n",
    "    draw_contours_classes=['text_line'],\n",
    "    draw_text_classes=['shrinked_pupil_text']\n",
    ")\n",
    "\n",
    "plt.figure(figsize=(40, 40))\n",
    "plt.imshow(vis)\n",
    "plt.show()"
   ]
  },
  {
   "cell_type": "markdown",
   "id": "6a226d6a",
   "metadata": {},
   "source": [
    "## Visualize rorated image using rorated contours"
   ]
  },
  {
   "cell_type": "code",
   "execution_count": null,
   "id": "f7543d91",
   "metadata": {},
   "outputs": [],
   "source": [
    "vis = get_image_visualization(\n",
    "    img=cv2.cvtColor(rotated_image, cv2.COLOR_BGR2RGB),\n",
    "    pred_data=pred_data,\n",
    "    draw_contours_classes=['text_line'],\n",
    "    draw_text_classes=['shrinked_pupil_text'],\n",
    "    polygon_name='rotated_polygon'\n",
    ")\n",
    "\n",
    "plt.figure(figsize=(40, 40))\n",
    "plt.imshow(vis)\n",
    "plt.show()"
   ]
  },
  {
   "cell_type": "markdown",
   "id": "4860b56a",
   "metadata": {},
   "source": [
    "## Get structured text from prediction"
   ]
  },
  {
   "cell_type": "code",
   "execution_count": null,
   "id": "7eacb32c",
   "metadata": {
    "scrolled": true
   },
   "outputs": [],
   "source": [
    "structured_text = get_structured_text(pred_data, ['shrinked_pupil_text'])\n",
    "for page_text in structured_text:\n",
    "    for line_text in page_text:\n",
    "        if line_text:\n",
    "            print(' '.join(line_text))\n",
    "    print('\\n')"
   ]
  },
  {
   "cell_type": "markdown",
   "id": "be314e4e",
   "metadata": {},
   "source": [
    "## Visualize structured text"
   ]
  },
  {
   "cell_type": "code",
   "execution_count": null,
   "id": "7115ad06",
   "metadata": {},
   "outputs": [],
   "source": [
    "image = cv2.imread(IMG_PATH)\n",
    "image = cv2.cvtColor(image, cv2.COLOR_BGR2RGB)\n",
    "\n",
    "vis = get_image_visualization(\n",
    "    img=rotated_image,\n",
    "    pred_data=pred_data,\n",
    "    draw_contours_classes=['text_line'],\n",
    "    structured_text=structured_text,\n",
    "    polygon_name='rotated_polygon'\n",
    ")\n",
    "\n",
    "plt.figure(figsize=(40, 40))\n",
    "plt.imshow(vis)\n",
    "plt.show()"
   ]
  },
  {
   "cell_type": "markdown",
   "id": "d0668f77",
   "metadata": {},
   "source": [
    "## Visualize line indexes on the image"
   ]
  },
  {
   "cell_type": "code",
   "execution_count": null,
   "id": "92630e26",
   "metadata": {},
   "outputs": [],
   "source": [
    "image = cv2.imread(IMG_PATH)\n",
    "image = cv2.cvtColor(image, cv2.COLOR_BGR2RGB)\n",
    "\n",
    "vis = get_line_number_visualization(\n",
    "    image, pred_data, ['text_line'], 'line_idx')\n",
    "\n",
    "\n",
    "plt.figure(figsize=(40, 40))\n",
    "plt.imshow(vis)\n",
    "plt.show()"
   ]
  }
 ],
 "metadata": {
  "kernelspec": {
   "display_name": "Python 3 (ipykernel)",
   "language": "python",
   "name": "python3"
  },
  "language_info": {
   "codemirror_mode": {
    "name": "ipython",
    "version": 3
   },
   "file_extension": ".py",
   "mimetype": "text/x-python",
   "name": "python",
   "nbconvert_exporter": "python",
   "pygments_lexer": "ipython3",
   "version": "3.7.12"
  }
 },
 "nbformat": 4,
 "nbformat_minor": 5
}
