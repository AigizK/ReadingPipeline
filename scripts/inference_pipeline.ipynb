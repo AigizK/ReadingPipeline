{
 "cells": [
  {
   "cell_type": "code",
   "execution_count": null,
   "id": "e9155e15",
   "metadata": {},
   "outputs": [],
   "source": [
    "import cv2\n",
    "from matplotlib import pyplot as plt\n",
    "\n",
    "from ocrpipeline.predictor import PipelinePredictor\n",
    "from ocrpipeline.utils import get_image_visualization"
   ]
  },
  {
   "cell_type": "code",
   "execution_count": null,
   "id": "d3322bab",
   "metadata": {},
   "outputs": [],
   "source": [
    "IMG_PATH = ''\n",
    "\n",
    "PIPELINE_CONFIG_PATH = '/workdir/scripts/pipeline_config.json'\n",
    "\n",
    "FONT_PATH = '/workdir/data/font.otf'"
   ]
  },
  {
   "cell_type": "code",
   "execution_count": null,
   "id": "f1f99c20",
   "metadata": {},
   "outputs": [],
   "source": [
    "predictor = PipelinePredictor(pipeline_config_path=PIPELINE_CONFIG_PATH)"
   ]
  },
  {
   "cell_type": "code",
   "execution_count": null,
   "id": "b696280e",
   "metadata": {
    "scrolled": true
   },
   "outputs": [],
   "source": [
    "image = cv2.imread(IMG_PATH)\n",
    "\n",
    "rotated_image, pred_data = predictor(image)"
   ]
  },
  {
   "cell_type": "code",
   "execution_count": null,
   "id": "013de5f1",
   "metadata": {},
   "outputs": [],
   "source": [
    "vis = get_image_visualization(\n",
    "    img=image,\n",
    "    pred_data=pred_data,\n",
    "    classes_to_draw=['shrinked_pupil_text'],\n",
    "    fontpath=FONT_PATH\n",
    ")\n",
    "\n",
    "plt.figure(figsize=(40, 40))\n",
    "plt.imshow(vis)\n",
    "plt.show()"
   ]
  }
 ],
 "metadata": {
  "kernelspec": {
   "display_name": "Python 3 (ipykernel)",
   "language": "python",
   "name": "python3"
  },
  "language_info": {
   "codemirror_mode": {
    "name": "ipython",
    "version": 3
   },
   "file_extension": ".py",
   "mimetype": "text/x-python",
   "name": "python",
   "nbconvert_exporter": "python",
   "pygments_lexer": "ipython3",
   "version": "3.7.12"
  }
 },
 "nbformat": 4,
 "nbformat_minor": 5
}
